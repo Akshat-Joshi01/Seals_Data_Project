{
 "cells": [
  {
   "cell_type": "code",
   "execution_count": 1,
   "id": "bf4d5c25",
   "metadata": {},
   "outputs": [
    {
     "name": "stdout",
     "output_type": "stream",
     "text": [
      "Sales data with 10,000 entries created successfully!\n",
      "  Transaction ID Customer ID       Product     Category Region  Sales Amount  \\\n",
      "0         T00001       C4449        Laptop  Accessories   West       1919.46   \n",
      "1         T00002       C8912        Laptop  Accessories  South        794.40   \n",
      "2         T00003       C8133  Mobile Phone  Electronics  South       1273.98   \n",
      "3         T00004       C3677       Desktop  Electronics   West        859.47   \n",
      "4         T00005       C4763        Tablet  Accessories  South       1124.79   \n",
      "\n",
      "   Quantity        Date  Payment Method  \n",
      "0         9  2023-04-10             UPI  \n",
      "1        10  2023-01-17     Credit Card  \n",
      "2         2  2023-08-10      Debit Card  \n",
      "3         4  2024-06-08  Online Payment  \n",
      "4         5  2024-07-26  Online Payment  \n",
      "\n",
      "Summary Statistics:\n",
      "       Sales Amount      Quantity\n",
      "count  10000.000000  10000.000000\n",
      "mean    1025.603027      5.494900\n",
      "std      566.562516      2.890019\n",
      "min       50.380000      1.000000\n",
      "25%      534.692500      3.000000\n",
      "50%     1019.695000      6.000000\n",
      "75%     1512.520000      8.000000\n",
      "max     2000.000000     10.000000\n",
      "\n",
      "Total Sales by Region:\n",
      "Region\n",
      "East     2564171.97\n",
      "North    2618890.93\n",
      "South    2538794.52\n",
      "West     2534172.85\n",
      "Name: Sales Amount, dtype: float64\n",
      "\n",
      "Total Sales by Category:\n",
      "Category\n",
      "Accessories         3387489.70\n",
      "Electronics         3445621.99\n",
      "Office Equipment    3422918.58\n",
      "Name: Sales Amount, dtype: float64\n",
      "\n",
      "Top 5 Products by Sales:\n",
      "Product\n",
      "Headphones    1092372.28\n",
      "Tablet        1066391.02\n",
      "Laptop        1054838.26\n",
      "Desktop       1041342.09\n",
      "Monitor       1017938.65\n",
      "Name: Sales Amount, dtype: float64\n"
     ]
    }
   ],
   "source": [
    "import pandas as pd\n",
    "import random\n",
    "import faker\n",
    "from datetime import datetime\n",
    "\n",
    "# Initialize Faker\n",
    "fake = faker.Faker()\n",
    "\n",
    "# Number of entries\n",
    "num_entries = 10000\n",
    "\n",
    "# Sample data for columns\n",
    "products = [\"Laptop\", \"Mobile Phone\", \"Tablet\", \"Smartwatch\", \"Desktop\", \"Camera\", \"Printer\", \"Monitor\", \"Keyboard\", \"Headphones\"]\n",
    "categories = [\"Electronics\", \"Accessories\", \"Office Equipment\"]\n",
    "regions = [\"North\", \"South\", \"East\", \"West\"]\n",
    "payment_methods = [\"Credit Card\", \"Debit Card\", \"Cash\", \"Online Payment\", \"UPI\"]\n",
    "\n",
    "# Generate random sales data\n",
    "data = {\n",
    "    \"Transaction ID\": [f\"T{str(i).zfill(5)}\" for i in range(1, num_entries + 1)],\n",
    "    \"Customer ID\": [f\"C{str(random.randint(1000, 9999))}\" for _ in range(num_entries)],\n",
    "    \"Product\": [random.choice(products) for _ in range(num_entries)],\n",
    "    \"Category\": [random.choice(categories) for _ in range(num_entries)],\n",
    "    \"Region\": [random.choice(regions) for _ in range(num_entries)],\n",
    "    \"Sales Amount\": [round(random.uniform(50, 2000), 2) for _ in range(num_entries)],\n",
    "    \"Quantity\": [random.randint(1, 10) for _ in range(num_entries)],\n",
    "    \"Date\": [fake.date_between(start_date=\"-2y\", end_date=\"today\") for _ in range(num_entries)],\n",
    "    \"Payment Method\": [random.choice(payment_methods) for _ in range(num_entries)],\n",
    "}\n",
    "\n",
    "# Create a DataFrame\n",
    "sales_data = pd.DataFrame(data)\n",
    "\n",
    "# Save to CSV\n",
    "sales_data.to_csv(\"sales_data.csv\", index=False)\n",
    "print(\"Sales data with 10,000 entries created successfully!\")\n",
    "\n",
    "# Load the dataset\n",
    "sales_data = pd.read_csv(\"sales_data.csv\")\n",
    "\n",
    "# Display the first 5 rows\n",
    "print(sales_data.head())\n",
    "\n",
    "# Summary statistics\n",
    "print(\"\\nSummary Statistics:\")\n",
    "print(sales_data.describe())\n",
    "\n",
    "# Total sales by region\n",
    "sales_by_region = sales_data.groupby(\"Region\")[\"Sales Amount\"].sum()\n",
    "print(\"\\nTotal Sales by Region:\")\n",
    "print(sales_by_region)\n",
    "\n",
    "# Total sales by category\n",
    "sales_by_category = sales_data.groupby(\"Category\")[\"Sales Amount\"].sum()\n",
    "print(\"\\nTotal Sales by Category:\")\n",
    "print(sales_by_category)\n",
    "\n",
    "# Top 5 products by sales\n",
    "top_products = sales_data.groupby(\"Product\")[\"Sales Amount\"].sum().sort_values(ascending=False).head(5)\n",
    "print(\"\\nTop 5 Products by Sales:\")\n",
    "print(top_products)\n",
    "\n"
   ]
  },
  {
   "cell_type": "code",
   "execution_count": null,
   "id": "0876a932",
   "metadata": {},
   "outputs": [],
   "source": []
  }
 ],
 "metadata": {
  "kernelspec": {
   "display_name": "Python 3 (ipykernel)",
   "language": "python",
   "name": "python3"
  },
  "language_info": {
   "codemirror_mode": {
    "name": "ipython",
    "version": 3
   },
   "file_extension": ".py",
   "mimetype": "text/x-python",
   "name": "python",
   "nbconvert_exporter": "python",
   "pygments_lexer": "ipython3",
   "version": "3.12.3"
  },
  "varInspector": {
   "cols": {
    "lenName": 16,
    "lenType": 16,
    "lenVar": 40
   },
   "kernels_config": {
    "python": {
     "delete_cmd_postfix": "",
     "delete_cmd_prefix": "del ",
     "library": "var_list.py",
     "varRefreshCmd": "print(var_dic_list())"
    },
    "r": {
     "delete_cmd_postfix": ") ",
     "delete_cmd_prefix": "rm(",
     "library": "var_list.r",
     "varRefreshCmd": "cat(var_dic_list()) "
    }
   },
   "types_to_exclude": [
    "module",
    "function",
    "builtin_function_or_method",
    "instance",
    "_Feature"
   ],
   "window_display": false
  }
 },
 "nbformat": 4,
 "nbformat_minor": 5
}
